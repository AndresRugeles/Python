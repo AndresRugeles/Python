{
 "cells": [
  {
   "cell_type": "markdown",
   "metadata": {},
   "source": [
    "# Análisis exploratorio de datos"
   ]
  },
  {
   "cell_type": "code",
   "execution_count": 1,
   "metadata": {},
   "outputs": [],
   "source": [
    "# Importando bibliotecas\n",
    "import pandas as pd\n",
    "import numpy as np"
   ]
  },
  {
   "cell_type": "markdown",
   "metadata": {},
   "source": [
    "**LECTURA DE ARCHIVO CSV Y ANÁLISIS RÁPIDO DEL DATAFRAME**"
   ]
  },
  {
   "cell_type": "code",
   "execution_count": null,
   "metadata": {},
   "outputs": [],
   "source": [
    "path = r'../Dataset/Online_Retail.csv'\n",
    "df = pd.read_csv(path, sep=\",\", encoding='latin1')\n",
    "\n",
    "\n",
    "print(f'Tipo de objeto es: {type(df)}')\n",
    "print(f'Las dimensiones del dataframe son: {df.shape}')\n",
    "num_rows, num_columns = df.shape\n",
    "print(f'Cantidad de Filas: {num_rows}')\n",
    "print(f'Cantidad de Columnas: {num_columns}')\n",
    "\n",
    "print(f'Número total de elementos (filas x columnas) son: {df.size}')\n",
    "print(f'La dimensión del objeto es: {df.ndim} | 1: Series y 2: Dataframe')\n",
    "print(f'----------------------------------------------------------------------------------------')\n",
    "print(f'Resumen estadístico de las columnas numéricas o categóricas: \\n {df.describe()}')"
   ]
  },
  {
   "cell_type": "markdown",
   "metadata": {},
   "source": [
    "**ANALIZANDO UNA COLUMNA ESPECÍFICA Y SUS VALORES ESTADÍSTICOS**"
   ]
  },
  {
   "cell_type": "code",
   "execution_count": null,
   "metadata": {},
   "outputs": [],
   "source": [
    "daily_sales = df['Quantity']\n",
    "print(daily_sales)\n",
    "print()\n",
    "print(f'El valor en la fila 2 es {daily_sales[2]}')\n",
    "\n",
    "# Para ver la información de cada columna específica\n",
    "mean_value = daily_sales.mean()\n",
    "median_value = daily_sales.median()\n",
    "sum_value = daily_sales.sum()\n",
    "count_values = daily_sales.count()\n",
    "\n",
    "print(f'Valor medio de la columna \"Quantity\" es: {mean_value}')\n",
    "print(f'Mediana de la columna \"Quantity\" es: {median_value}')\n",
    "print(f'Suma de la columna \"Quantity\" es: {sum_value}')\n",
    "print(f'Conteo de valores excluyendo nulos es: {count_values}')"
   ]
  }
 ],
 "metadata": {
  "kernelspec": {
   "display_name": "Python 3",
   "language": "python",
   "name": "python3"
  },
  "language_info": {
   "codemirror_mode": {
    "name": "ipython",
    "version": 3
   },
   "file_extension": ".py",
   "mimetype": "text/x-python",
   "name": "python",
   "nbconvert_exporter": "python",
   "pygments_lexer": "ipython3",
   "version": "3.10.1"
  }
 },
 "nbformat": 4,
 "nbformat_minor": 2
}
